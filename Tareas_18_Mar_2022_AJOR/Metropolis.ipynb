{
  "nbformat": 4,
  "nbformat_minor": 0,
  "metadata": {
    "colab": {
      "name": "Metropolis.ipynb",
      "provenance": [],
      "collapsed_sections": []
    },
    "kernelspec": {
      "name": "python3",
      "display_name": "Python 3"
    },
    "language_info": {
      "name": "python"
    }
  },
  "cells": [
    {
      "cell_type": "markdown",
      "source": [
        "### Metropolis Hasting\n",
        "\n",
        "Alberto Josué Ortiz Rosales 8-Mar-2022\n",
        "\n",
        "$p(x) \\propto  f(x)$\n",
        "\n",
        "$p(x) = \\frac{f(x)}{NC}$"
      ],
      "metadata": {
        "id": "4rGGW4_Ec3N2"
      }
    },
    {
      "cell_type": "markdown",
      "source": [
        "La idea es tomar muestras de una distribución. Tal que tenga el mismo dominio $g(x)$.\n",
        "\n",
        "Si la distribución de la cual se tomarán las muestras es simétrica $g(x|y) = g(y|x)$, se llama Metropolis. Si es cualquier otra entonces es Metropolis-Hasting."
      ],
      "metadata": {
        "id": "sQuDsF2Gc3Py"
      }
    },
    {
      "cell_type": "markdown",
      "source": [
        "1. Seleccionar un valor inicial $x_0$\n",
        "2. Iterar de i = 1 hasta n:\n",
        "    - a. Sacar un candidato $x^. \t\\sim g(x^. | x_{i-1})$.\n",
        "    - b. $\\alpha =\\frac{\\frac{f(x^.)}{g(x^. | x_{i-1})}}{\\frac{f( x_{i-1})}{ g(x_{i-1}|x^.)}}$\n",
        "    -  $\\alpha =\\frac{f(x^.)g(x_{i-1}|x^. )}{f( x_{i-1})  g(x^. | x_{i-1})}$\n",
        "    - Si $\\alpha \\geq 1$ accepta $x^.$ el estado $x_i = x^.$ \n",
        "    - Si $0 < \\alpha < 1 $ accepta $x^.$ con una porbablilidad $\\alpha$, entonces $x_i = x^.$.\n",
        "        - O rechaza $x^.$ con una porbablilidad $1 - \\alpha$, entonces $x_i = x_{i-1}$."
      ],
      "metadata": {
        "id": "g8-CWkJac9kZ"
      }
    },
    {
      "cell_type": "markdown",
      "source": [
        "Con ese algoritmo se puede encontrar una distribución de probablilidad para cualquier función \n",
        "\n",
        "Ejemplo:\n",
        "\n",
        "$f(x) = e^{-x} \\quad (x\\geq0)$ \n"
      ],
      "metadata": {
        "id": "Ux6M2My8c9mX"
      }
    },
    {
      "cell_type": "code",
      "source": [
        "import numpy as np\n",
        "import random \n",
        "import matplotlib.pyplot as plt"
      ],
      "metadata": {
        "id": "eXSB-JFnfwyh"
      },
      "execution_count": 2,
      "outputs": []
    },
    {
      "cell_type": "code",
      "source": [
        "def functione(x):\n",
        "    if (x<= 0):\n",
        "        return 0\n",
        "    else:\n",
        "        return np.exp(-x)"
      ],
      "metadata": {
        "id": "xEPt1wvufySV"
      },
      "execution_count": 3,
      "outputs": []
    },
    {
      "cell_type": "code",
      "source": [
        "x = []\n",
        "function = functione\n",
        "x.append( 10)     #inicializa en algún valor en cada iteración se alejará de este\n",
        "# valor si se encuentra alejado a la mayoría\n",
        "for i in range (1, 20000):\n",
        "    x_anterior = x[i-1]\n",
        "    x_propuesto = np.random.normal(0, 1)\n",
        "    A = function(x_propuesto)/function(x_anterior)\n",
        "    r1 = random.random()\n",
        "    if(A >= 1 or A > r1):\n",
        "        x.append(x_propuesto)\n",
        "    else:\n",
        "        x.append(x_anterior)"
      ],
      "metadata": {
        "id": "sKWTJELIfyTn"
      },
      "execution_count": 4,
      "outputs": []
    },
    {
      "cell_type": "code",
      "source": [
        "plt.plot(x,'.', markersize=3)\n",
        "    \n",
        "plt.xlabel(\"i\")\n",
        "plt.ylabel(\"x\")"
      ],
      "metadata": {
        "colab": {
          "base_uri": "https://localhost:8080/",
          "height": 297
        },
        "id": "62q5c3WVfyXq",
        "outputId": "5ae54c71-bddd-4e7d-d2ad-2bc196933bc7"
      },
      "execution_count": 5,
      "outputs": [
        {
          "output_type": "execute_result",
          "data": {
            "text/plain": [
              "Text(0, 0.5, 'x')"
            ]
          },
          "metadata": {},
          "execution_count": 5
        },
        {
          "output_type": "display_data",
          "data": {
            "text/plain": [
              "<Figure size 432x288 with 1 Axes>"
            ],
            "image/png": "[encoded data removed]"
          },
          "metadata": {
            "needs_background": "light"
          }
        }
      ]
    },
    {
      "cell_type": "code",
      "source": [
        "plt.hist(x,range=(0,10), bins=40)\n",
        "plt.title(\"Distribución de $e^{-x}$\")"
      ],
      "metadata": {
        "colab": {
          "base_uri": "https://localhost:8080/",
          "height": 299
        },
        "id": "Ox5qWLKCfyZV",
        "outputId": "a354710e-699c-4d41-fa4d-f46770f0d8f7"
      },
      "execution_count": 14,
      "outputs": [
        {
          "output_type": "execute_result",
          "data": {
            "text/plain": [
              "Text(0.5, 1.0, 'Distribución de $e^{-x}$')"
            ]
          },
          "metadata": {},
          "execution_count": 14
        },
        {
          "output_type": "display_data",
          "data": {
            "text/plain": [
              "<Figure size 432x288 with 1 Axes>"
            ],
            "image/png": "[encoded data removed]"
          },
          "metadata": {
            "needs_background": "light"
          }
        }
      ]
    },
    {
      "cell_type": "markdown",
      "source": [
        "Ejemplo:\n",
        "\n",
        "$f(x)=2-x^2$"
      ],
      "metadata": {
        "id": "CJogfTkXjxGI"
      }
    },
    {
      "cell_type": "code",
      "source": [
        "def functionx2(x):\n",
        "    return 2-(x*x)"
      ],
      "metadata": {
        "id": "NnNJSk38jvfc"
      },
      "execution_count": 8,
      "outputs": []
    },
    {
      "cell_type": "code",
      "source": [
        "x = []\n",
        "function = functionx2\n",
        "x.append( 10)     #inicializa en algún valor\n",
        "for i in range (1, 20000):\n",
        "    x_anterior = x[i-1]\n",
        "    x_propuesto = np.random.normal(0, 1)\n",
        "    A = function(x_propuesto)/function(x_anterior)\n",
        "    r1 = random.random()\n",
        "    if(A >= 1 or A > r1):\n",
        "        x.append(x_propuesto)\n",
        "    else:\n",
        "        x.append(x_anterior)"
      ],
      "metadata": {
        "id": "TNRFNzLqjwHX"
      },
      "execution_count": 9,
      "outputs": []
    },
    {
      "cell_type": "code",
      "source": [
        "plt.plot(x,'.', markersize=3)\n",
        "    \n",
        "plt.xlabel(\"i\")\n",
        "plt.ylabel(\"x\")"
      ],
      "metadata": {
        "colab": {
          "base_uri": "https://localhost:8080/",
          "height": 297
        },
        "id": "d4O29vzojwVE",
        "outputId": "c444fa35-44ad-47d8-c1bb-7f08bbba6f5e"
      },
      "execution_count": 10,
      "outputs": [
        {
          "output_type": "execute_result",
          "data": {
            "text/plain": [
              "Text(0, 0.5, 'x')"
            ]
          },
          "metadata": {},
          "execution_count": 10
        },
        {
          "output_type": "display_data",
          "data": {
            "text/plain": [
              "<Figure size 432x288 with 1 Axes>"
            ],
            "image/png": "[encoded data removed]"
          },
          "metadata": {
            "needs_background": "light"
          }
        }
      ]
    },
    {
      "cell_type": "code",
      "source": [
        "plt.hist(x,range=(-10,10), bins=40)\n",
        "plt.title(\"Distribución de $2 -x^2$\")"
      ],
      "metadata": {
        "colab": {
          "base_uri": "https://localhost:8080/",
          "height": 303
        },
        "id": "j1EYhbOhkMwJ",
        "outputId": "72554638-879c-47aa-881c-c8d8289e9991"
      },
      "execution_count": 13,
      "outputs": [
        {
          "output_type": "execute_result",
          "data": {
            "text/plain": [
              "Text(0.5, 1.0, 'Distribución de $2 -x^2$')"
            ]
          },
          "metadata": {},
          "execution_count": 13
        },
        {
          "output_type": "display_data",
          "data": {
            "text/plain": [
              "<Figure size 432x288 with 1 Axes>"
            ],
            "image/png": "[encoded data removed]"
          },
          "metadata": {
            "needs_background": "light"
          }
        }
      ]
    },
    {
      "cell_type": "code",
      "source": [
        ""
      ],
      "metadata": {
        "id": "oaxfZjF9czXD"
      },
      "execution_count": null,
      "outputs": []
    }
  ]
}